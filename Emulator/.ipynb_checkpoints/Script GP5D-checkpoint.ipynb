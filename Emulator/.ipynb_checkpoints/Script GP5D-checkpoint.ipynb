{
 "cells": [
  {
   "cell_type": "code",
   "execution_count": 1,
   "metadata": {},
   "outputs": [],
   "source": [
    "import sys\n",
    "%matplotlib inline\n",
    "import numpy as np\n",
    "import os\n",
    "import matplotlib.pyplot\n",
    "import pandas as pd\n",
    "import matplotlib.pyplot as plt\n",
    "import matplotlib as mpl\n",
    "import matplotlib.ticker as mticker\n",
    "import matplotlib.dates as mdates\n",
    "import datetime\n",
    "from tqdm import tqdm\n",
    "import GPy\n",
    "from collections import defaultdict\n",
    "from pathlib import Path\n",
    "import seaborn as sns\n",
    "import scipy.stats as stats\n",
    "from matplotlib.colors import ListedColormap\n",
    "import warnings\n",
    "import time\n",
    "from itertools import product\n",
    "from joblib import Parallel, delayed\n",
    "from operator import itemgetter\n",
    "\n",
    "mpl.rcParams['legend.frameon'] = False\n",
    "mpl.rcParams['figure.autolayout'] = True\n",
    "# mpl.rcParams['figure.dpi'] = 300\n",
    "# mpl.rcParams['axes.spines.right'] = False\n",
    "# mpl.rcParams['axes.spines.top'] = False\n",
    "\n",
    "\n",
    "plt.rcParams.update({\n",
    "    \"text.usetex\": True,\n",
    "    \"font.family\": \"sans-serif\",\n",
    "    \"font.sans-serif\": [\"Helvetica\"]})\n",
    "\n",
    "plt.rcParams.update({\n",
    "    \"text.usetex\": True,\n",
    "    \"font.family\": \"serif\",\n",
    "    \"font.serif\": [\"Palatino\"],\n",
    "})\n",
    "\n",
    "\n",
    "def utkarshGrid():\n",
    "    plt.minorticks_on()\n",
    "    plt.grid(color='grey',\n",
    "             which='minor',\n",
    "             linestyle=\":\",\n",
    "             linewidth='0.1',\n",
    "             )\n",
    "    plt.grid(color='black',\n",
    "             which='major',\n",
    "             linestyle=\":\",\n",
    "             linewidth='0.1',\n",
    "             )"
   ]
  },
  {
   "cell_type": "code",
   "execution_count": 2,
   "metadata": {},
   "outputs": [
    {
     "data": {
      "text/plain": [
       "'/Users/utkarsh/PycharmProjects/KilonovaeLightCurves/Emulator'"
      ]
     },
     "execution_count": 2,
     "metadata": {},
     "output_type": "execute_result"
    }
   ],
   "source": [
    "path = os.path.dirname(os.getcwd())\n",
    "os.chdir(path)\n",
    "from Emulator.Classes.AllData import AllData\n",
    "from Emulator.Classes.LightCurve import utkarshGrid, LightCurve\n",
    "from Emulator.Classes.GP import GP\n",
    "from Emulator.Classes.GP2D import GP2D\n",
    "from Emulator.Classes.GP5D import GP5D\n",
    "os.chdir(os.getcwd() + \"/Emulator\")\n",
    "os.getcwd()"
   ]
  },
  {
   "cell_type": "code",
   "execution_count": 3,
   "metadata": {},
   "outputs": [],
   "source": [
    "curr_wv = np.arange(100, 3600, 10)\n",
    "set_n_comp = 25\n",
    "set_skip_factor = None"
   ]
  },
  {
   "cell_type": "code",
   "execution_count": 4,
   "metadata": {},
   "outputs": [],
   "source": [
    "# gp = GP5D(\"Classes/reference.csv\")\n",
    "# gp.skip_factor = set_skip_factor\n",
    "# gp.set_wv_range(curr_wv)\n",
    "# gp.n_comp = set_n_comp\n",
    "# gp.num_pca_components = (4,4)\n",
    "# time_shape = None\n",
    "# gp.setXY()\n",
    "# # gp.save_pca_components(skip_factor = None)\n",
    "# gp.save_trained_data()\n",
    "# gp.ComputeDifferenceFlux()\n",
    "# gp.plot_difference_histogram(binning = 150)\n",
    "# plt.title(\"Error in only PCA Components (PCA Flux - Truth)/TRUTH\")\n",
    "# plt.xlabel(\"Units Log Flux (Error)\")\n",
    "# plt.ylabel(\"Count\")\n",
    "# plt.xlim(-1, 1)\n",
    "# plt.show()"
   ]
  },
  {
   "cell_type": "code",
   "execution_count": null,
   "metadata": {
    "scrolled": false
   },
   "outputs": [
    {
     "name": "stdout",
     "output_type": "stream",
     "text": [
      "[STATUS] Setting X, Y components for 5D Model.\n",
      "[STATUS] Optimizing...\n"
     ]
    }
   ],
   "source": [
    "gp = GP5D(\"Classes/reference.csv\")\n",
    "gp.set_wv_range(curr_wv)\n",
    "gp.n_comp = set_n_comp\n",
    "time_shape = None\n",
    "gp.num_pca_components = (10,10)\n",
    "# gp.save_training_data(time_trauncation = time_shape) # Which wv do you want to extract.  \n",
    "gp.save_pca_components(skip_factor = set_skip_factor)\n",
    "gp.setXY()\n",
    "fitting_kernel = GPy.kern.RBF(input_dim=4, variance = 10, lengthscale=10, ARD = True)\n",
    "decay_kernel = GPy.kern.Linear(4 , ARD=True)\n",
    "gp.kernel = fitting_kernel * decay_kernel\n",
    "gp.model = GPy.models.GPRegression(gp.X,gp.Y,gp.kernel)\n",
    "t0 = time.time()\n",
    "print(f\"[STATUS] Optimizing...\")\n",
    "gp.model.optimize_restarts(parallel = True, robust = True, num_restarts = 20)\n",
    "print(f\"[STATUS] {round(time.time() - t0, 2)}s taken to optimize.\")\n",
    "# gp.model.optimize(messages = True)\n",
    "# display(gp.model.rbf.lengthscale)\n",
    "display(gp.model.mul.rbf.lengthscale)\n",
    "t1 = time.time()\n",
    "gp.model_predict()\n",
    "print(f\"[STATUS] {round(time.time() - t1, 2)}s taken to predict.\")\n",
    "t2 = time.time()\n",
    "gp.save_trained_data()\n",
    "print(f\"[STATUS] {round(time.time() - t2, 2)}s taken to save data.\")\n",
    "# gp.ComputeDifferenceFlux()\n",
    "# gp.plot_difference_histogram(binning = 150)\n",
    "# plt.xlim(-1,1)\n",
    "# plt.show()"
   ]
  },
  {
   "cell_type": "code",
   "execution_count": null,
   "metadata": {},
   "outputs": [],
   "source": [
    "# WHAT WAVELENGTH AND TIME WOULD YOU LIKE? \n",
    "wv_desired = 250 #nm\n",
    "time_desired = 5 #day\n",
    "\n",
    "mejdyn = 0.001\n",
    "mejwind =  0.01\n",
    "phi = 45\n",
    "iobs = 4\n",
    "\n",
    "t = np.arange(0, 20, 20/100)\n",
    "untrained = np.load(f\"pca/mejdyn{mejdyn}_mejwind{mejwind}_phi{phi}_iobs{iobs}.npy\")\n",
    "trained = np.load(f\"pcaTrained/mejdyn{mejdyn}_mejwind{mejwind}_phi{phi}_iobs{iobs}.npy\")\n",
    "trainedUpper = np.load(f\"pcaTrainedUpper/mejdyn{mejdyn}_mejwind{mejwind}_phi{phi}_iobs{iobs}.npy\")\n",
    "trainedLower = np.load(f\"pcaTrainedLower/mejdyn{mejdyn}_mejwind{mejwind}_phi{phi}_iobs{iobs}.npy\")\n",
    "wv_index = (np.abs(gp.wv_range - wv_desired)).argmin() # Plot arbitary wavelength. \n",
    "time_index = (np.abs(t - time_desired)).argmin() # Plot arbitary wavelength. "
   ]
  },
  {
   "cell_type": "code",
   "execution_count": null,
   "metadata": {
    "scrolled": false
   },
   "outputs": [],
   "source": [
    "import sncosmo\n",
    "filters = [\"sdss::u\", \"sdss::g\", \"sdss::r\", \"sdss::i\", \"sdss::z\",\n",
    "           \"swope2::y\", \"swope2::J\", \"swope2::H\"]\n",
    "\n",
    "colors = sns.color_palette(\"coolwarm_r\",len(filters))[::-1]\n",
    "\n",
    "plt.figure(dpi = 300, figsize = (6,3))\n",
    "for i in range(len(filters)):\n",
    "    source = sncosmo.TimeSeriesSource(t, gp.wv_range*10, 10 ** trained)\n",
    "    source2 = sncosmo.TimeSeriesSource(t, gp.wv_range*10, 10 ** untrained)\n",
    "    m = source.bandmag(filters[i], \"ab\", t)\n",
    "    m2 = source2.bandmag(filters[i], \"ab\", t)\n",
    "    plt.plot(t, m, label = f\"{filters[i][-1]}\", color = colors[i])\n",
    "    plt.plot(t, m2, linestyle = \"dotted\", alpha = 0.3, color = colors[i])\n",
    "\n",
    "plt.legend()\n",
    "utkarshGrid()\n",
    "plt.gca().invert_yaxis()\n",
    "plt.show()"
   ]
  },
  {
   "cell_type": "code",
   "execution_count": null,
   "metadata": {
    "scrolled": false
   },
   "outputs": [],
   "source": [
    "\n",
    "print(f\"=== Flux Estimation === \\nmejdyn: {mejdyn}\\nmejwind: {mejwind}\\\n",
    "\\nphi: {phi}\\nviewing_angle: {iobs}\\nwavelength: {gp.wv_range[wv_index]}nm\\\n",
    "\\ntime: {round(t[time_index],2)} days\\n\\nLOG FLUX: {round(trained[time_index,wv_index], 5)}\")\n",
    "\n",
    "\n",
    "plt.figure(dpi = 300, figsize = (6,3))\n",
    "plt.title(f\"Wavelength = {gp.wv_range[wv_index]}nm\")\n",
    "plt.plot(t, untrained[:,wv_index], label = \"Training Data\", color = \"purple\")\n",
    "plt.plot(t, trainedUpper[:,wv_index], alpha = 0.3, color = \"lightblue\", label = r\"1$\\sigma$\")\n",
    "plt.plot(t, trainedLower[:,wv_index], alpha = 0.3, color = \"lightblue\")\n",
    "plt.plot(t, trained[:,wv_index], label = \"Trained Emulator + PCA\", linestyle = \"dashed\", color = \"dodgerblue\")\n",
    "plt.legend()\n",
    "plt.xlabel(\"Time (s)\")\n",
    "plt.ylabel(\"Log Flux (Magnitude)\")\n",
    "utkarshGrid()\n",
    "plt.show()\n",
    "\n",
    "plt.figure(dpi = 300, figsize = (6,3))\n",
    "plt.title(f\"Time = {round(t[time_index],3)} Days\")\n",
    "plt.plot(gp.wv_range, untrained[time_index,:], label = \"Training Data\", color = \"purple\")\n",
    "plt.plot(gp.wv_range, trained[time_index,:], label = \"Trained Emulator + PCA\", \n",
    "         linestyle = \"dashed\", color = \"dodgerblue\")\n",
    "plt.plot(gp.wv_range, trainedUpper[time_index,:], alpha = 0.3, color = \"lightblue\" , label = r\"1$\\sigma$ Error (UNFINISHED)\")\n",
    "plt.plot(gp.wv_range, trainedLower[time_index,:], alpha = 0.3, color = \"lightblue\")\n",
    "plt.legend()\n",
    "plt.xlabel(\"Wavelength (nm)\")\n",
    "plt.ylabel(\"Log Flux (Magnitude)\")\n",
    "utkarshGrid()\n",
    "plt.show()"
   ]
  },
  {
   "cell_type": "code",
   "execution_count": null,
   "metadata": {
    "scrolled": false
   },
   "outputs": [],
   "source": [
    "# gp = GP5D(\"Classes/reference.csv\")\n",
    "# gp.set_wv_range(curr_wv)\n",
    "# gp.n_comp = set_n_comp\n",
    "# # gp.num_pca_components = (4,4)\n",
    "# # gp.save_training_data(time_trauncation = None) # Which wv do you want to extract.  \n",
    "# gp.save_pca_components(skip_factor = set_skip_factor)\n",
    "# gp.setXY()\n",
    "# fitting_kernel = GPy.kern.RBF(input_dim=4, variance = 10, lengthscale=10, ARD = True)\n",
    "# decay_kernel = GPy.kern.Linear(4,ARD=True)\n",
    "# gp.kernel = fitting_kernel * decay_kernel\n",
    "# gp.LOOCV_PCA()\n",
    "# gp.plot_loocv_histogram() # THIS IS FOR PCA COMPONENTS, NOT TRAINING DATA"
   ]
  },
  {
   "cell_type": "code",
   "execution_count": null,
   "metadata": {
    "scrolled": false
   },
   "outputs": [],
   "source": [
    "# gp.save_trained_data()\n",
    "# gp.ComputeDifferenceFlux()\n",
    "# gp.plot_difference_histogram(binning = 100)\n",
    "# plt.xlim(-1, 1)"
   ]
  }
 ],
 "metadata": {
  "kernelspec": {
   "display_name": "Python 3",
   "language": "python",
   "name": "python3"
  },
  "language_info": {
   "codemirror_mode": {
    "name": "ipython",
    "version": 3
   },
   "file_extension": ".py",
   "mimetype": "text/x-python",
   "name": "python",
   "nbconvert_exporter": "python",
   "pygments_lexer": "ipython3",
   "version": "3.8.6"
  }
 },
 "nbformat": 4,
 "nbformat_minor": 4
}
