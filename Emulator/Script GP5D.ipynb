{
 "cells": [
  {
   "cell_type": "code",
   "execution_count": 1,
   "metadata": {},
   "outputs": [],
   "source": [
    "import sys\n",
    "%matplotlib inline\n",
    "import numpy as np\n",
    "import os\n",
    "import matplotlib.pyplot\n",
    "import pandas as pd\n",
    "import matplotlib.pyplot as plt\n",
    "import matplotlib as mpl\n",
    "import matplotlib.ticker as mticker\n",
    "import matplotlib.dates as mdates\n",
    "import datetime\n",
    "from tqdm import tqdm\n",
    "import GPy\n",
    "from collections import defaultdict\n",
    "from pathlib import Path\n",
    "import seaborn as sns\n",
    "import scipy.stats as stats\n",
    "from matplotlib.colors import ListedColormap\n",
    "import warnings\n",
    "import time\n",
    "from itertools import product\n",
    "from joblib import Parallel, delayed\n",
    "from operator import itemgetter\n",
    "\n",
    "mpl.rcParams['legend.frameon'] = False\n",
    "mpl.rcParams['figure.autolayout'] = True\n",
    "# mpl.rcParams['figure.dpi'] = 300\n",
    "# mpl.rcParams['axes.spines.right'] = False\n",
    "# mpl.rcParams['axes.spines.top'] = False\n",
    "\n",
    "\n",
    "plt.rcParams.update({\n",
    "    \"text.usetex\": True,\n",
    "    \"font.family\": \"sans-serif\",\n",
    "    \"font.sans-serif\": [\"Helvetica\"]})\n",
    "\n",
    "plt.rcParams.update({\n",
    "    \"text.usetex\": True,\n",
    "    \"font.family\": \"serif\",\n",
    "    \"font.serif\": [\"Palatino\"],\n",
    "})\n",
    "\n",
    "\n",
    "def utkarshGrid():\n",
    "    plt.minorticks_on()\n",
    "    plt.grid(color='grey',\n",
    "             which='minor',\n",
    "             linestyle=\":\",\n",
    "             linewidth='0.1',\n",
    "             )\n",
    "    plt.grid(color='black',\n",
    "             which='major',\n",
    "             linestyle=\":\",\n",
    "             linewidth='0.1',\n",
    "             )"
   ]
  },
  {
   "cell_type": "code",
   "execution_count": 2,
   "metadata": {},
   "outputs": [
    {
     "data": {
      "text/plain": [
       "'/Users/utkarsh/PycharmProjects/KilonovaeLightCurves/Emulator'"
      ]
     },
     "execution_count": 2,
     "metadata": {},
     "output_type": "execute_result"
    }
   ],
   "source": [
    "path = os.path.dirname(os.getcwd())\n",
    "os.chdir(path)\n",
    "from Emulator.Classes.AllData import AllData\n",
    "from Emulator.Classes.LightCurve import utkarshGrid, LightCurve\n",
    "from Emulator.Classes.GP import GP\n",
    "from Emulator.Classes.GP2D import GP2D\n",
    "from Emulator.Classes.GP5D import GP5D\n",
    "os.chdir(os.getcwd() + \"/Emulator\")\n",
    "os.getcwd()"
   ]
  },
  {
   "cell_type": "code",
   "execution_count": 3,
   "metadata": {},
   "outputs": [],
   "source": [
    "curr_wv = np.arange(100, 3600, 10)\n",
    "set_n_comp = 25\n",
    "set_skip_factor = None"
   ]
  },
  {
   "cell_type": "code",
   "execution_count": 4,
   "metadata": {},
   "outputs": [],
   "source": [
    "# gp = GP5D(\"Classes/reference.csv\")\n",
    "# gp.skip_factor = set_skip_factor\n",
    "# gp.set_wv_range(curr_wv)\n",
    "# gp.n_comp = set_n_comp\n",
    "# gp.num_pca_components = (4,4)\n",
    "# time_shape = None\n",
    "# gp.setXY()\n",
    "# # gp.save_pca_components(skip_factor = None)\n",
    "# gp.save_trained_data()\n",
    "# gp.ComputeDifferenceFlux()\n",
    "# gp.plot_difference_histogram(binning = 150)\n",
    "# plt.title(\"Error in only PCA Components (PCA Flux - Truth)/TRUTH\")\n",
    "# plt.xlabel(\"Units Log Flux (Error)\")\n",
    "# plt.ylabel(\"Count\")\n",
    "# plt.xlim(-1, 1)\n",
    "# plt.show()"
   ]
  },
  {
   "cell_type": "code",
   "execution_count": null,
   "metadata": {
    "scrolled": false
   },
   "outputs": [
    {
     "name": "stdout",
     "output_type": "stream",
     "text": [
      "[STATUS] Setting X, Y components for 5D Model.\n",
      "[STATUS] Optimizing...\n",
      "Optimization restart 1/20, f = 205456.40226213407\n",
      "Optimization restart 2/20, f = 203117.22728400785\n",
      "Optimization restart 3/20, f = 207420.19900313995\n",
      "Optimization restart 4/20, f = 236290.72938201507\n",
      "Optimization restart 5/20, f = 203106.70512859686\n",
      "Optimization restart 6/20, f = 203119.16996816354\n",
      "Optimization restart 7/20, f = 205889.83116504658\n",
      "Optimization restart 8/20, f = 204919.66134819214\n",
      "Optimization restart 9/20, f = 204217.37767821248\n",
      "Optimization restart 10/20, f = 202497.23484769286\n",
      "Optimization restart 11/20, f = 224008.15962655755\n",
      "Optimization restart 12/20, f = 206681.70853942668\n",
      "Optimization restart 13/20, f = 204247.70630686224\n",
      "Optimization restart 14/20, f = 211927.46124105365\n",
      "Optimization restart 15/20, f = 208420.59892375008\n",
      "Optimization restart 16/20, f = 216800.84692616804\n",
      "Optimization restart 17/20, f = 219771.16618331498\n",
      "Optimization restart 18/20, f = 214563.66558435804\n",
      "Optimization restart 19/20, f = 202563.41960048492\n",
      "Optimization restart 20/20, f = 559306.3853893842\n",
      "[STATUS] 474.96s taken to optimize.\n"
     ]
    },
    {
     "data": {
      "text/html": [
       "<style type=\"text/css\">\n",
       ".tg  {padding:2px 3px;word-break:normal;border-collapse:collapse;border-spacing:0;border-color:#DCDCDC;margin:0px auto;width:100%;}\n",
       ".tg td{font-family:\"Courier New\", Courier, monospace !important;font-weight:bold;color:#444;background-color:#F7FDFA;border-style:solid;border-width:1px;overflow:hidden;word-break:normal;border-color:#DCDCDC;}\n",
       ".tg th{font-family:\"Courier New\", Courier, monospace !important;font-weight:normal;color:#fff;background-color:#26ADE4;border-style:solid;border-width:1px;overflow:hidden;word-break:normal;border-color:#DCDCDC;}\n",
       ".tg .tg-left{font-family:\"Courier New\", Courier, monospace !important;font-weight:normal;text-align:left;}\n",
       ".tg .tg-right{font-family:\"Courier New\", Courier, monospace !important;font-weight:normal;text-align:right;}\n",
       "</style>\n",
       "<table class=\"tg\">\n",
       "\n",
       "<tr>\n",
       "  <th><b>index</b></th>\n",
       "  <th><b>GP_regression.mul.rbf.lengthscale</b></th>\n",
       "  <th><b>constraints</b></th><th><b>priors</b></th>\n",
       "</tr>\n",
       "<tr><td class=tg-left>  [0]  </td><td class=tg-right>                       0.12862882</td><td class=tg-left>    +ve    </td><td class=tg-left>      </td></tr>\n",
       "<tr><td class=tg-left>  [1]  </td><td class=tg-right>                       0.10035217</td><td class=tg-left>    +ve    </td><td class=tg-left>      </td></tr>\n",
       "<tr><td class=tg-left>  [2]  </td><td class=tg-right>                       0.11685431</td><td class=tg-left>    +ve    </td><td class=tg-left>      </td></tr>\n",
       "<tr><td class=tg-left>  [3]  </td><td class=tg-right>                     108.28621897</td><td class=tg-left>    +ve    </td><td class=tg-left>      </td></tr>"
      ],
      "text/plain": [
       "\u001b[1mGP_regression.mul.rbf.lengthscale\u001b[0;0m:\n",
       "Param([1.28628819e-01, 1.00352166e-01, 1.16854312e-01, 1.08286219e+02])"
      ]
     },
     "metadata": {},
     "output_type": "display_data"
    },
    {
     "name": "stdout",
     "output_type": "stream",
     "text": [
      "[STATUS] Predicting X and Y with trained emulator.\n",
      "[STATUS] 2.11s taken to predict.\n"
     ]
    }
   ],
   "source": [
    "gp = GP5D(\"Classes/reference.csv\")\n",
    "gp.set_wv_range(curr_wv)\n",
    "gp.n_comp = set_n_comp\n",
    "time_shape = None\n",
    "gp.num_pca_components = (10,10)\n",
    "# gp.save_training_data(time_trauncation = time_shape) # Which wv do you want to extract.  \n",
    "gp.save_pca_components(skip_factor = set_skip_factor)\n",
    "gp.setXY()\n",
    "fitting_kernel = GPy.kern.RBF(input_dim=4, variance = 10, lengthscale=10, ARD = True)\n",
    "decay_kernel = GPy.kern.Linear(4 , ARD=True)\n",
    "gp.kernel = fitting_kernel * decay_kernel\n",
    "gp.model = GPy.models.GPRegression(gp.X,gp.Y,gp.kernel)\n",
    "t0 = time.time()\n",
    "print(f\"[STATUS] Optimizing...\")\n",
    "gp.model.optimize_restarts(parallel = True, robust = True, num_restarts = 20)\n",
    "print(f\"[STATUS] {round(time.time() - t0, 2)}s taken to optimize.\")\n",
    "# gp.model.optimize(messages = True)\n",
    "# display(gp.model.rbf.lengthscale)\n",
    "display(gp.model.mul.rbf.lengthscale)\n",
    "t1 = time.time()\n",
    "gp.model_predict()\n",
    "print(f\"[STATUS] {round(time.time() - t1, 2)}s taken to predict.\")\n",
    "t2 = time.time()\n",
    "gp.save_trained_data()\n",
    "print(f\"[STATUS] {round(time.time() - t2, 2)}s taken to save data.\")\n",
    "# gp.ComputeDifferenceFlux()\n",
    "# gp.plot_difference_histogram(binning = 150)\n",
    "# plt.xlim(-1,1)\n",
    "# plt.show()"
   ]
  },
  {
   "cell_type": "code",
   "execution_count": null,
   "metadata": {},
   "outputs": [],
   "source": [
    "# WHAT WAVELENGTH AND TIME WOULD YOU LIKE? \n",
    "wv_desired = 250 #nm\n",
    "time_desired = 5 #day\n",
    "\n",
    "mejdyn = 0.001\n",
    "mejwind =  0.01\n",
    "phi = 45\n",
    "iobs = 4\n",
    "\n",
    "t = np.arange(0, 20, 20/100)\n",
    "untrained = np.load(f\"pca/mejdyn{mejdyn}_mejwind{mejwind}_phi{phi}_iobs{iobs}.npy\")\n",
    "trained = np.load(f\"pcaTrained/mejdyn{mejdyn}_mejwind{mejwind}_phi{phi}_iobs{iobs}.npy\")\n",
    "trainedUpper = np.load(f\"pcaTrainedUpper/mejdyn{mejdyn}_mejwind{mejwind}_phi{phi}_iobs{iobs}.npy\")\n",
    "trainedLower = np.load(f\"pcaTrainedLower/mejdyn{mejdyn}_mejwind{mejwind}_phi{phi}_iobs{iobs}.npy\")\n",
    "wv_index = (np.abs(gp.wv_range - wv_desired)).argmin() # Plot arbitary wavelength. \n",
    "time_index = (np.abs(t - time_desired)).argmin() # Plot arbitary wavelength. "
   ]
  },
  {
   "cell_type": "code",
   "execution_count": null,
   "metadata": {
    "scrolled": false
   },
   "outputs": [],
   "source": [
    "import sncosmo\n",
    "filters = [\"sdss::u\", \"sdss::g\", \"sdss::r\", \"sdss::i\", \"sdss::z\",\n",
    "           \"swope2::y\", \"swope2::J\", \"swope2::H\"]\n",
    "\n",
    "colors = sns.color_palette(\"coolwarm_r\",len(filters))[::-1]\n",
    "\n",
    "plt.figure(dpi = 300, figsize = (6,3))\n",
    "for i in range(len(filters)):\n",
    "    source = sncosmo.TimeSeriesSource(t, gp.wv_range*10, 10 ** trained)\n",
    "    source2 = sncosmo.TimeSeriesSource(t, gp.wv_range*10, 10 ** untrained)\n",
    "    m = source.bandmag(filters[i], \"ab\", t)\n",
    "    m2 = source2.bandmag(filters[i], \"ab\", t)\n",
    "    plt.plot(t, m, label = f\"{filters[i][-1]}\", color = colors[i])\n",
    "    plt.plot(t, m2, linestyle = \"dotted\", alpha = 0.3, color = colors[i])\n",
    "\n",
    "plt.legend()\n",
    "utkarshGrid()\n",
    "plt.gca().invert_yaxis()\n",
    "plt.show()"
   ]
  },
  {
   "cell_type": "code",
   "execution_count": null,
   "metadata": {
    "scrolled": false
   },
   "outputs": [],
   "source": [
    "\n",
    "print(f\"=== Flux Estimation === \\nmejdyn: {mejdyn}\\nmejwind: {mejwind}\\\n",
    "\\nphi: {phi}\\nviewing_angle: {iobs}\\nwavelength: {gp.wv_range[wv_index]}nm\\\n",
    "\\ntime: {round(t[time_index],2)} days\\n\\nLOG FLUX: {round(trained[time_index,wv_index], 5)}\")\n",
    "\n",
    "\n",
    "plt.figure(dpi = 300, figsize = (6,3))\n",
    "plt.title(f\"Wavelength = {gp.wv_range[wv_index]}nm\")\n",
    "plt.plot(t, untrained[:,wv_index], label = \"Training Data\", color = \"purple\")\n",
    "plt.plot(t, trainedUpper[:,wv_index], alpha = 0.3, color = \"lightblue\", label = r\"1$\\sigma$\")\n",
    "plt.plot(t, trainedLower[:,wv_index], alpha = 0.3, color = \"lightblue\")\n",
    "plt.plot(t, trained[:,wv_index], label = \"Trained Emulator + PCA\", linestyle = \"dashed\", color = \"dodgerblue\")\n",
    "plt.legend()\n",
    "plt.xlabel(\"Time (s)\")\n",
    "plt.ylabel(\"Log Flux (Magnitude)\")\n",
    "utkarshGrid()\n",
    "plt.show()\n",
    "\n",
    "plt.figure(dpi = 300, figsize = (6,3))\n",
    "plt.title(f\"Time = {round(t[time_index],3)} Days\")\n",
    "plt.plot(gp.wv_range, untrained[time_index,:], label = \"Training Data\", color = \"purple\")\n",
    "plt.plot(gp.wv_range, trained[time_index,:], label = \"Trained Emulator + PCA\", \n",
    "         linestyle = \"dashed\", color = \"dodgerblue\")\n",
    "plt.plot(gp.wv_range, trainedUpper[time_index,:], alpha = 0.3, color = \"lightblue\" , label = r\"1$\\sigma$ Error (UNFINISHED)\")\n",
    "plt.plot(gp.wv_range, trainedLower[time_index,:], alpha = 0.3, color = \"lightblue\")\n",
    "plt.legend()\n",
    "plt.xlabel(\"Wavelength (nm)\")\n",
    "plt.ylabel(\"Log Flux (Magnitude)\")\n",
    "utkarshGrid()\n",
    "plt.show()"
   ]
  },
  {
   "cell_type": "code",
   "execution_count": null,
   "metadata": {
    "scrolled": false
   },
   "outputs": [],
   "source": [
    "# gp = GP5D(\"Classes/reference.csv\")\n",
    "# gp.set_wv_range(curr_wv)\n",
    "# gp.n_comp = set_n_comp\n",
    "# # gp.num_pca_components = (4,4)\n",
    "# # gp.save_training_data(time_trauncation = None) # Which wv do you want to extract.  \n",
    "# gp.save_pca_components(skip_factor = set_skip_factor)\n",
    "# gp.setXY()\n",
    "# fitting_kernel = GPy.kern.RBF(input_dim=4, variance = 10, lengthscale=10, ARD = True)\n",
    "# decay_kernel = GPy.kern.Linear(4,ARD=True)\n",
    "# gp.kernel = fitting_kernel * decay_kernel\n",
    "# gp.LOOCV_PCA()\n",
    "# gp.plot_loocv_histogram() # THIS IS FOR PCA COMPONENTS, NOT TRAINING DATA"
   ]
  },
  {
   "cell_type": "code",
   "execution_count": null,
   "metadata": {
    "scrolled": false
   },
   "outputs": [],
   "source": [
    "# gp.save_trained_data()\n",
    "# gp.ComputeDifferenceFlux()\n",
    "# gp.plot_difference_histogram(binning = 100)\n",
    "# plt.xlim(-1, 1)"
   ]
  }
 ],
 "metadata": {
  "kernelspec": {
   "display_name": "Python 3",
   "language": "python",
   "name": "python3"
  },
  "language_info": {
   "codemirror_mode": {
    "name": "ipython",
    "version": 3
   },
   "file_extension": ".py",
   "mimetype": "text/x-python",
   "name": "python",
   "nbconvert_exporter": "python",
   "pygments_lexer": "ipython3",
   "version": "3.8.6"
  }
 },
 "nbformat": 4,
 "nbformat_minor": 4
}
