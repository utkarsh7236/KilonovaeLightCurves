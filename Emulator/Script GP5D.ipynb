{
 "cells": [
  {
   "cell_type": "code",
   "execution_count": 1,
   "metadata": {},
   "outputs": [],
   "source": [
    "import sys\n",
    "%matplotlib inline\n",
    "import numpy as np\n",
    "import os\n",
    "import matplotlib.pyplot\n",
    "import pandas as pd\n",
    "import matplotlib.pyplot as plt\n",
    "import matplotlib as mpl\n",
    "import matplotlib.ticker as mticker\n",
    "import matplotlib.dates as mdates\n",
    "import datetime\n",
    "from tqdm import tqdm\n",
    "import GPy\n",
    "from collections import defaultdict\n",
    "from pathlib import Path\n",
    "import seaborn as sns\n",
    "import scipy.stats as stats\n",
    "from matplotlib.colors import ListedColormap\n",
    "import warnings\n",
    "import time\n",
    "from itertools import product\n",
    "from joblib import Parallel, delayed\n",
    "from operator import itemgetter\n",
    "import sncosmo\n",
    "\n",
    "mpl.rcParams['legend.frameon'] = False\n",
    "mpl.rcParams['figure.autolayout'] = True\n",
    "# mpl.rcParams['figure.dpi'] = 300\n",
    "# mpl.rcParams['axes.spines.right'] = False\n",
    "# mpl.rcParams['axes.spines.top'] = False\n",
    "\n",
    "\n",
    "plt.rcParams.update({\n",
    "    \"text.usetex\": True,\n",
    "    \"font.family\": \"sans-serif\",\n",
    "    \"font.sans-serif\": [\"Helvetica\"]})\n",
    "\n",
    "plt.rcParams.update({\n",
    "    \"text.usetex\": True,\n",
    "    \"font.family\": \"serif\",\n",
    "    \"font.serif\": [\"Palatino\"],\n",
    "})\n",
    "\n",
    "\n",
    "def utkarshGrid():\n",
    "    plt.minorticks_on()\n",
    "    plt.grid(color='grey',\n",
    "             which='minor',\n",
    "             linestyle=\":\",\n",
    "             linewidth='0.1',\n",
    "             )\n",
    "    plt.grid(color='black',\n",
    "             which='major',\n",
    "             linestyle=\":\",\n",
    "             linewidth='0.1',\n",
    "             )"
   ]
  },
  {
   "cell_type": "code",
   "execution_count": 2,
   "metadata": {},
   "outputs": [
    {
     "data": {
      "text/plain": [
       "'/Users/utkarsh/PycharmProjects/KilonovaeLightCurves/Emulator'"
      ]
     },
     "execution_count": 2,
     "metadata": {},
     "output_type": "execute_result"
    }
   ],
   "source": [
    "path = os.path.dirname(os.getcwd())\n",
    "os.chdir(path)\n",
    "from Emulator.Classes.AllData import AllData\n",
    "from Emulator.Classes.LightCurve import utkarshGrid, LightCurve\n",
    "from Emulator.Classes.GP import GP\n",
    "from Emulator.Classes.GP2D import GP2D\n",
    "from Emulator.Classes.GP5D import GP5D\n",
    "os.chdir(os.getcwd() + \"/Emulator\")\n",
    "os.getcwd()"
   ]
  },
  {
   "cell_type": "code",
   "execution_count": 3,
   "metadata": {},
   "outputs": [],
   "source": [
    "curr_wv = np.arange(100, 3600, 10)\n",
    "set_n_comp = 10\n",
    "set_skip_factor = None"
   ]
  },
  {
   "cell_type": "code",
   "execution_count": 4,
   "metadata": {},
   "outputs": [],
   "source": [
    "# gp = GP5D(\"Classes/reference.csv\")\n",
    "# gp.skip_factor = set_skip_factor\n",
    "# gp.set_wv_range(curr_wv)\n",
    "# gp.n_comp = set_n_comp\n",
    "# gp.num_pca_components = (4,4)\n",
    "# time_shape = None\n",
    "# gp.setXY()\n",
    "# # gp.save_pca_components(skip_factor = None)\n",
    "# gp.save_trained_data()\n",
    "# gp.ComputeDifferenceFlux()\n",
    "# gp.plot_difference_histogram(binning = 150)\n",
    "# plt.title(\"Error in only PCA Components (PCA Flux - Truth)/TRUTH\")\n",
    "# plt.xlabel(\"Units Log Flux (Error)\")\n",
    "# plt.ylabel(\"Count\")\n",
    "# plt.xlim(-1, 1)\n",
    "# plt.show()"
   ]
  },
  {
   "cell_type": "code",
   "execution_count": null,
   "metadata": {
    "scrolled": false
   },
   "outputs": [
    {
     "name": "stdout",
     "output_type": "stream",
     "text": [
      "[STATUS] Setting X, Y components for 5D Model.\n",
      "[STATUS] Optimizing...\n",
      "Optimization restart 1/20, f = 42364.313182436585\n",
      "Optimization restart 2/20, f = 42236.18798671907\n",
      "Optimization restart 3/20, f = 42236.18796080944\n",
      "Optimization restart 4/20, f = 42745.636783699956\n",
      "Optimization restart 5/20, f = 42478.03532956186\n",
      "Optimization restart 6/20, f = 42236.188217381045\n",
      "Optimization restart 7/20, f = 42478.0350000971\n",
      "Optimization restart 8/20, f = 42236.18797366286\n",
      "Optimization restart 9/20, f = 42364.31305327009\n",
      "Optimization restart 10/20, f = 42236.1880550233\n",
      "Optimization restart 11/20, f = 42236.18805223319\n",
      "Optimization restart 12/20, f = 42236.18827537258\n",
      "Optimization restart 13/20, f = 42236.188252139094\n",
      "Optimization restart 14/20, f = 42398.392741025986\n",
      "Optimization restart 15/20, f = 42236.188208879015\n",
      "Optimization restart 16/20, f = 44276.24818208299\n",
      "Optimization restart 17/20, f = 42236.18844336399\n",
      "Optimization restart 18/20, f = 42236.18889913621\n",
      "Optimization restart 19/20, f = 42478.035321640185\n",
      "Optimization restart 20/20, f = 42943.154156569406\n",
      "[STATUS] 529.59s taken to optimize.\n"
     ]
    },
    {
     "data": {
      "text/html": [
       "<style type=\"text/css\">\n",
       ".tg  {padding:2px 3px;word-break:normal;border-collapse:collapse;border-spacing:0;border-color:#DCDCDC;margin:0px auto;width:100%;}\n",
       ".tg td{font-family:\"Courier New\", Courier, monospace !important;font-weight:bold;color:#444;background-color:#F7FDFA;border-style:solid;border-width:1px;overflow:hidden;word-break:normal;border-color:#DCDCDC;}\n",
       ".tg th{font-family:\"Courier New\", Courier, monospace !important;font-weight:normal;color:#fff;background-color:#26ADE4;border-style:solid;border-width:1px;overflow:hidden;word-break:normal;border-color:#DCDCDC;}\n",
       ".tg .tg-left{font-family:\"Courier New\", Courier, monospace !important;font-weight:normal;text-align:left;}\n",
       ".tg .tg-right{font-family:\"Courier New\", Courier, monospace !important;font-weight:normal;text-align:right;}\n",
       "</style>\n",
       "<table class=\"tg\">\n",
       "\n",
       "<tr>\n",
       "  <th><b>index</b></th>\n",
       "  <th><b>GP_regression.mul.rbf.lengthscale</b></th>\n",
       "  <th><b>constraints</b></th><th><b>priors</b></th>\n",
       "</tr>\n",
       "<tr><td class=tg-left>  [0]  </td><td class=tg-right>                       0.17782535</td><td class=tg-left>    +ve    </td><td class=tg-left>      </td></tr>\n",
       "<tr><td class=tg-left>  [1]  </td><td class=tg-right>                       0.13813431</td><td class=tg-left>    +ve    </td><td class=tg-left>      </td></tr>\n",
       "<tr><td class=tg-left>  [2]  </td><td class=tg-right>                       0.15573939</td><td class=tg-left>    +ve    </td><td class=tg-left>      </td></tr>\n",
       "<tr><td class=tg-left>  [3]  </td><td class=tg-right>                       2.08277677</td><td class=tg-left>    +ve    </td><td class=tg-left>      </td></tr>"
      ],
      "text/plain": [
       "\u001b[1mGP_regression.mul.rbf.lengthscale\u001b[0;0m:\n",
       "Param([0.17782535, 0.13813431, 0.15573939, 2.08277677])"
      ]
     },
     "metadata": {},
     "output_type": "display_data"
    },
    {
     "name": "stdout",
     "output_type": "stream",
     "text": [
      "[STATUS] Predicting X and Y with trained emulator.\n",
      "[STATUS] 1.77s taken to predict.\n"
     ]
    }
   ],
   "source": [
    "gp = GP5D(\"Classes/reference.csv\")\n",
    "gp.set_wv_range(curr_wv)\n",
    "gp.n_comp = set_n_comp\n",
    "time_shape = None\n",
    "gp.num_pca_components = (10,10)\n",
    "# gp.save_training_data(time_trauncation = time_shape) # Which wv do you want to extract.  \n",
    "gp.save_pca_components(skip_factor = set_skip_factor)\n",
    "gp.setXY()\n",
    "fitting_kernel = GPy.kern.RBF(input_dim=4, variance = 10, lengthscale=10, ARD = True)\n",
    "decay_kernel = GPy.kern.Linear(4 , ARD=True)\n",
    "gp.kernel = fitting_kernel * decay_kernel\n",
    "gp.model = GPy.models.GPRegression(gp.X,gp.Y,gp.kernel)\n",
    "t0 = time.time()\n",
    "print(f\"[STATUS] Optimizing...\")\n",
    "gp.model.optimize_restarts(parallel = True, robust = True, num_restarts = 20)\n",
    "print(f\"[STATUS] {round(time.time() - t0, 2)}s taken to optimize.\")\n",
    "# gp.model.optimize(messages = True)\n",
    "# display(gp.model.rbf.lengthscale)\n",
    "display(gp.model.mul.rbf.lengthscale)\n",
    "t1 = time.time()\n",
    "gp.model_predict(include_like = False)\n",
    "print(f\"[STATUS] {round(time.time() - t1, 2)}s taken to predict.\")\n",
    "t2 = time.time()\n",
    "gp.save_trained_data()\n",
    "print(f\"[STATUS] {round(time.time() - t2, 2)}s taken to save data.\")\n",
    "# gp.ComputeDifferenceFlux()\n",
    "# gp.plot_difference_histogram(binning = 150)\n",
    "# plt.xlim(-1,1)\n",
    "# plt.show()"
   ]
  },
  {
   "cell_type": "code",
   "execution_count": null,
   "metadata": {},
   "outputs": [],
   "source": [
    "gp.plot_filters(mejdyn = 0.001, mejwind =  0.01, phi = 45, iobs = 4)\n",
    "gp.get_flux(mejdyn = 0.001, mejwind =  0.01, phi = 45, iobs = 4, time_desired = 2, wv_desired = 250)\n",
    "gp.overplot_time(mejdyn = 0.001, mejwind =  0.01, phi = 45, iobs = 4, wv_desired = 250)\n",
    "gp.overplot_wavelength(mejdyn = 0.001, mejwind =  0.01, phi = 45, iobs = 4, time_desired = 2)\n",
    "plt.show()"
   ]
  },
  {
   "cell_type": "code",
   "execution_count": null,
   "metadata": {},
   "outputs": [],
   "source": [
    "gp.plot_emulator_errors()\n",
    "# # Emulator Errors\n",
    "# # validation_element\n",
    "# self = gp\n",
    "# t = np.arange(gp.Ntime[0], gp.Ntime[1], gp.Ntime[1] / gp.Ntime[2])\n",
    "# diff = np.zeros(t.shape)\n",
    "# for index, row, in tqdm(self.reference.iterrows(), total = 196):\n",
    "#     for viewing_angle in self.iobs_range:\n",
    "#         mejdyn = row.mejdyn\n",
    "#         mejwind =  row.mejwind\n",
    "#         phi = row.phi\n",
    "#         iobs = viewing_angle\n",
    "\n",
    "#         untrained = np.load(f\"data/pca/mejdyn{mejdyn}_mejwind{mejwind}_phi{phi}_iobs{iobs}.npy\")\n",
    "#         trained = np.load(f\"data/pcaTrained/mejdyn{mejdyn}_mejwind{mejwind}_phi{phi}_iobs{iobs}.npy\")\n",
    "\n",
    "\n",
    "#         for i in range(len(t)):\n",
    "#             diff += abs(trained[:, i] - untrained[:, i])\n",
    "\n",
    "# plt.figure(dpi=300, figsize=(6, 3))\n",
    "# plt.plot(t, diff, color = \"goldenrod\")\n",
    "# utkarshGrid()\n",
    "# plt.title(\"Errors between Bulla model and the emulator\")\n",
    "# # plt.ylabel(\"Absolute Error (Cumulative Magnitude)\")\n",
    "# plt.ylabel(\"Absolute Error (Cumulative Log Flux)\")\n",
    "# plt.xlabel(\"Time (days)\")\n",
    "# plt.show()"
   ]
  },
  {
   "cell_type": "markdown",
   "metadata": {},
   "source": [
    "## Single Cross Validation"
   ]
  },
  {
   "cell_type": "code",
   "execution_count": null,
   "metadata": {},
   "outputs": [],
   "source": [
    "# mejdyn = 0.001\n",
    "# mejwind =  0.01\n",
    "# phi = 45\n",
    "# iobs = 4\n",
    "# gp = GP5D(\"Classes/reference.csv\")\n",
    "# gp.set_wv_range(curr_wv)\n",
    "# gp.n_comp = set_n_comp\n",
    "# time_shape = None\n",
    "# gp.num_pca_components = (10,10)\n",
    "# # gp.save_training_data(time_trauncation = time_shape) # Which wv do you want to extract.  \n",
    "# gp.save_pca_components(skip_factor = set_skip_factor)\n",
    "# gp.setXY_cross_validation(mejdyn, mejwind, phi, iobs)\n",
    "# fitting_kernel = GPy.kern.RBF(input_dim=4, variance = 10, lengthscale=10, ARD = True)\n",
    "# decay_kernel = GPy.kern.Linear(4 , ARD=True)\n",
    "# gp.kernel = fitting_kernel * decay_kernel\n",
    "# gp.model = GPy.models.GPRegression(gp.X,gp.Y,gp.kernel)\n",
    "# t0 = time.time()\n",
    "# print(f\"[STATUS] Optimizing...\")\n",
    "# gp.model.optimize_restarts(parallel = True, robust = True, num_restarts = 20)\n",
    "# print(f\"[STATUS] {round(time.time() - t0, 2)}s taken to optimize.\")\n",
    "# # gp.model.optimize(messages = True)\n",
    "# # display(gp.model.rbf.lengthscale)\n",
    "# display(gp.model.mul.rbf.lengthscale)\n",
    "# t1 = time.time()\n",
    "# gp.model_predict(include_like = False)\n",
    "# print(f\"[STATUS] {round(time.time() - t1, 2)}s taken to predict.\")\n",
    "# t2 = time.time()\n",
    "# gp.save_trained_data()\n",
    "# print(f\"[STATUS] {round(time.time() - t2, 2)}s taken to save data.\")"
   ]
  },
  {
   "cell_type": "code",
   "execution_count": null,
   "metadata": {
    "scrolled": false
   },
   "outputs": [],
   "source": [
    "# gp = GP5D(\"Classes/reference.csv\")\n",
    "# gp.set_wv_range(curr_wv)\n",
    "# gp.n_comp = set_n_comp\n",
    "# # gp.num_pca_components = (4,4)\n",
    "# # gp.save_training_data(time_trauncation = None) # Which wv do you want to extract.  \n",
    "# gp.save_pca_components(skip_factor = set_skip_factor)\n",
    "# gp.setXY()\n",
    "# fitting_kernel = GPy.kern.RBF(input_dim=4, variance = 10, lengthscale=10, ARD = True)\n",
    "# decay_kernel = GPy.kern.Linear(4,ARD=True)\n",
    "# gp.kernel = fitting_kernel * decay_kernel\n",
    "# gp.LOOCV_PCA()\n",
    "# gp.plot_loocv_histogram() # THIS IS FOR PCA COMPONENTS, NOT TRAINING DATA"
   ]
  },
  {
   "cell_type": "code",
   "execution_count": null,
   "metadata": {
    "scrolled": false
   },
   "outputs": [],
   "source": [
    "# gp.save_trained_data()\n",
    "# gp.ComputeDifferenceFlux()\n",
    "# gp.plot_difference_histogram(binning = 100)\n",
    "# plt.xlim(-1, 1)"
   ]
  }
 ],
 "metadata": {
  "kernelspec": {
   "display_name": "Python 3",
   "language": "python",
   "name": "python3"
  },
  "language_info": {
   "codemirror_mode": {
    "name": "ipython",
    "version": 3
   },
   "file_extension": ".py",
   "mimetype": "text/x-python",
   "name": "python",
   "nbconvert_exporter": "python",
   "pygments_lexer": "ipython3",
   "version": "3.8.6"
  }
 },
 "nbformat": 4,
 "nbformat_minor": 4
}
