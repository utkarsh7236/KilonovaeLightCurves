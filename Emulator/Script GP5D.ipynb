{
 "cells": [
  {
   "cell_type": "code",
   "execution_count": 1,
   "metadata": {},
   "outputs": [],
   "source": [
    "import sys\n",
    "%matplotlib inline\n",
    "import numpy as np\n",
    "import os\n",
    "import matplotlib.pyplot\n",
    "import pandas as pd\n",
    "import matplotlib.pyplot as plt\n",
    "import matplotlib as mpl\n",
    "import matplotlib.ticker as mticker\n",
    "import matplotlib.dates as mdates\n",
    "import datetime\n",
    "from tqdm import tqdm\n",
    "import GPy\n",
    "from collections import defaultdict\n",
    "from pathlib import Path\n",
    "import seaborn as sns\n",
    "import scipy.stats as stats\n",
    "from matplotlib.colors import ListedColormap\n",
    "import warnings\n",
    "import time\n",
    "from itertools import product\n",
    "from joblib import Parallel, delayed\n",
    "from operator import itemgetter\n",
    "\n",
    "mpl.rcParams['legend.frameon'] = False\n",
    "mpl.rcParams['figure.autolayout'] = True\n",
    "# mpl.rcParams['figure.dpi'] = 300\n",
    "# mpl.rcParams['axes.spines.right'] = False\n",
    "# mpl.rcParams['axes.spines.top'] = False\n",
    "\n",
    "\n",
    "plt.rcParams.update({\n",
    "    \"text.usetex\": True,\n",
    "    \"font.family\": \"sans-serif\",\n",
    "    \"font.sans-serif\": [\"Helvetica\"]})\n",
    "\n",
    "plt.rcParams.update({\n",
    "    \"text.usetex\": True,\n",
    "    \"font.family\": \"serif\",\n",
    "    \"font.serif\": [\"Palatino\"],\n",
    "})\n",
    "\n",
    "\n",
    "def utkarshGrid():\n",
    "    plt.minorticks_on()\n",
    "    plt.grid(color='grey',\n",
    "             which='minor',\n",
    "             linestyle=\":\",\n",
    "             linewidth='0.1',\n",
    "             )\n",
    "    plt.grid(color='black',\n",
    "             which='major',\n",
    "             linestyle=\":\",\n",
    "             linewidth='0.1',\n",
    "             )"
   ]
  },
  {
   "cell_type": "code",
   "execution_count": 2,
   "metadata": {},
   "outputs": [
    {
     "name": "stdout",
     "output_type": "stream",
     "text": [
      "[STATUS] Reference Saved\n",
      "[STATUS] Skipping Tests\n"
     ]
    }
   ],
   "source": [
    "import random\n",
    "random.seed(3)\n",
    "\n",
    "%run Classes.ipynb"
   ]
  },
  {
   "cell_type": "code",
   "execution_count": 3,
   "metadata": {},
   "outputs": [],
   "source": [
    "curr_wv = np.arange(100, 3600, 10)\n",
    "set_n_comp = 25\n",
    "set_skip_factor = 4"
   ]
  },
  {
   "cell_type": "code",
   "execution_count": 4,
   "metadata": {},
   "outputs": [],
   "source": [
    "# gp = GP5D(\"reference.csv\")\n",
    "# gp.skip_factor = set_skip_factor\n",
    "# gp.set_wv_range(curr_wv)\n",
    "# gp.n_comp = set_n_comp\n",
    "# gp.num_pca_components = (4,4)\n",
    "# time_shape = None\n",
    "# gp.setXY()\n",
    "# # gp.save_pca_components(skip_factor = None)\n",
    "# gp.save_trained_data()\n",
    "# gp.ComputeDifferenceFlux()\n",
    "# gp.plot_difference_histogram(binning = 150)\n",
    "# plt.title(\"Error in only PCA Components (PCA Flux - Truth)/TRUTH\")\n",
    "# plt.xlabel(\"Units Log Flux (Error)\")\n",
    "# plt.ylabel(\"Count\")\n",
    "# plt.xlim(-1, 1)\n",
    "# plt.show()"
   ]
  },
  {
   "cell_type": "code",
   "execution_count": 5,
   "metadata": {
    "scrolled": false
   },
   "outputs": [
    {
     "name": "stdout",
     "output_type": "stream",
     "text": [
      "[STATUS] Setting X, Y components for 5D Model.\n",
      "[STATUS] Optimizing...\n",
      "Optimization restart 1/20, f = 547827.587624906\n",
      "Optimization restart 2/20, f = 261989.8828973499\n",
      "Optimization restart 3/20, f = 322870.89848370804\n",
      "Optimization restart 4/20, f = 336092.117264254\n",
      "Optimization restart 5/20, f = 415504.4927975853\n",
      "Optimization restart 6/20, f = 364816.2211052531\n",
      "Optimization restart 7/20, f = 494717.0192157334\n",
      "Optimization restart 8/20, f = 384351.79686828575\n",
      "Optimization restart 9/20, f = 517788.3466864861\n",
      "Optimization restart 10/20, f = 411876.4229631175\n",
      "Optimization restart 11/20, f = 371788.73234267614\n",
      "Optimization restart 12/20, f = 261494.62378235214\n",
      "Optimization restart 13/20, f = 394905.4937418815\n",
      "Optimization restart 14/20, f = 421925.33448062267\n",
      "Optimization restart 15/20, f = 266332.46441065805\n",
      "Optimization restart 16/20, f = 261069.37816104983\n",
      "Optimization restart 17/20, f = 464473.5083521133\n",
      "Optimization restart 18/20, f = 260537.36619079814\n",
      "Optimization restart 19/20, f = 267058.725137625\n",
      "Optimization restart 20/20, f = 410056.34156653314\n",
      "[STATUS] 312.14s taken to optimize.\n"
     ]
    },
    {
     "data": {
      "text/html": [
       "<style type=\"text/css\">\n",
       ".tg  {padding:2px 3px;word-break:normal;border-collapse:collapse;border-spacing:0;border-color:#DCDCDC;margin:0px auto;width:100%;}\n",
       ".tg td{font-family:\"Courier New\", Courier, monospace !important;font-weight:bold;color:#444;background-color:#F7FDFA;border-style:solid;border-width:1px;overflow:hidden;word-break:normal;border-color:#DCDCDC;}\n",
       ".tg th{font-family:\"Courier New\", Courier, monospace !important;font-weight:normal;color:#fff;background-color:#26ADE4;border-style:solid;border-width:1px;overflow:hidden;word-break:normal;border-color:#DCDCDC;}\n",
       ".tg .tg-left{font-family:\"Courier New\", Courier, monospace !important;font-weight:normal;text-align:left;}\n",
       ".tg .tg-right{font-family:\"Courier New\", Courier, monospace !important;font-weight:normal;text-align:right;}\n",
       "</style>\n",
       "<table class=\"tg\">\n",
       "\n",
       "<tr>\n",
       "  <th><b>index</b></th>\n",
       "  <th><b>GP_regression.mul.rbf.lengthscale</b></th>\n",
       "  <th><b>constraints</b></th><th><b>priors</b></th>\n",
       "</tr>\n",
       "<tr><td class=tg-left>  [0]  </td><td class=tg-right>                       0.00000007</td><td class=tg-left>    +ve    </td><td class=tg-left>      </td></tr>\n",
       "<tr><td class=tg-left>  [1]  </td><td class=tg-right>                       0.07480944</td><td class=tg-left>    +ve    </td><td class=tg-left>      </td></tr>\n",
       "<tr><td class=tg-left>  [2]  </td><td class=tg-right>                       0.10469544</td><td class=tg-left>    +ve    </td><td class=tg-left>      </td></tr>\n",
       "<tr><td class=tg-left>  [3]  </td><td class=tg-right>                       0.07114922</td><td class=tg-left>    +ve    </td><td class=tg-left>      </td></tr>"
      ],
      "text/plain": [
       "\u001b[1mGP_regression.mul.rbf.lengthscale\u001b[0;0m:\n",
       "Param([7.02331813e-08, 7.48094443e-02, 1.04695438e-01, 7.11492203e-02])"
      ]
     },
     "metadata": {},
     "output_type": "display_data"
    },
    {
     "name": "stdout",
     "output_type": "stream",
     "text": [
      "[STATUS] Predicting X and Y with trained emulator.\n",
      "[STATUS] 4.04s taken to predict.\n"
     ]
    },
    {
     "ename": "ValueError",
     "evalue": "cannot reshape array of size 75460000 into shape (100,350,539)",
     "output_type": "error",
     "traceback": [
      "\u001b[0;31m---------------------------------------------------------------------------\u001b[0m",
      "\u001b[0;31mValueError\u001b[0m                                Traceback (most recent call last)",
      "\u001b[0;32m<ipython-input-5-f6c9b2d1cf0d>\u001b[0m in \u001b[0;36m<module>\u001b[0;34m\u001b[0m\n\u001b[1;32m     22\u001b[0m \u001b[0mprint\u001b[0m\u001b[0;34m(\u001b[0m\u001b[0;34mf\"[STATUS] {round(time.time() - t1, 2)}s taken to predict.\"\u001b[0m\u001b[0;34m)\u001b[0m\u001b[0;34m\u001b[0m\u001b[0;34m\u001b[0m\u001b[0m\n\u001b[1;32m     23\u001b[0m \u001b[0mt2\u001b[0m \u001b[0;34m=\u001b[0m \u001b[0mtime\u001b[0m\u001b[0;34m.\u001b[0m\u001b[0mtime\u001b[0m\u001b[0;34m(\u001b[0m\u001b[0;34m)\u001b[0m\u001b[0;34m\u001b[0m\u001b[0;34m\u001b[0m\u001b[0m\n\u001b[0;32m---> 24\u001b[0;31m \u001b[0mgp\u001b[0m\u001b[0;34m.\u001b[0m\u001b[0msave_trained_data\u001b[0m\u001b[0;34m(\u001b[0m\u001b[0;34m)\u001b[0m\u001b[0;34m\u001b[0m\u001b[0;34m\u001b[0m\u001b[0m\n\u001b[0m\u001b[1;32m     25\u001b[0m \u001b[0mprint\u001b[0m\u001b[0;34m(\u001b[0m\u001b[0;34mf\"[STATUS] {round(time.time() - t2, 2)}s taken to save data.\"\u001b[0m\u001b[0;34m)\u001b[0m\u001b[0;34m\u001b[0m\u001b[0;34m\u001b[0m\u001b[0m\n\u001b[1;32m     26\u001b[0m \u001b[0;31m# gp.ComputeDifferenceFlux()\u001b[0m\u001b[0;34m\u001b[0m\u001b[0;34m\u001b[0m\u001b[0;34m\u001b[0m\u001b[0m\n",
      "\u001b[0;32m<ipython-input-2-1bf54df87c3a>\u001b[0m in \u001b[0;36msave_trained_data\u001b[0;34m(self)\u001b[0m\n\u001b[1;32m    342\u001b[0m \u001b[0;34m\u001b[0m\u001b[0m\n\u001b[1;32m    343\u001b[0m     \u001b[0;32mdef\u001b[0m \u001b[0msave_trained_data\u001b[0m\u001b[0;34m(\u001b[0m\u001b[0mself\u001b[0m\u001b[0;34m)\u001b[0m\u001b[0;34m:\u001b[0m\u001b[0;34m\u001b[0m\u001b[0;34m\u001b[0m\u001b[0m\n\u001b[0;32m--> 344\u001b[0;31m         \u001b[0mself\u001b[0m\u001b[0;34m.\u001b[0m\u001b[0mold_save_trained_data\u001b[0m\u001b[0;34m(\u001b[0m\u001b[0mtyp\u001b[0m \u001b[0;34m=\u001b[0m \u001b[0;32mNone\u001b[0m\u001b[0;34m)\u001b[0m\u001b[0;34m\u001b[0m\u001b[0;34m\u001b[0m\u001b[0m\n\u001b[0m\u001b[1;32m    345\u001b[0m         \u001b[0mself\u001b[0m\u001b[0;34m.\u001b[0m\u001b[0mold_save_trained_data\u001b[0m\u001b[0;34m(\u001b[0m\u001b[0mtyp\u001b[0m \u001b[0;34m=\u001b[0m \u001b[0;34m\"lower\"\u001b[0m\u001b[0;34m)\u001b[0m\u001b[0;34m\u001b[0m\u001b[0;34m\u001b[0m\u001b[0m\n\u001b[1;32m    346\u001b[0m         \u001b[0mself\u001b[0m\u001b[0;34m.\u001b[0m\u001b[0mold_save_trained_data\u001b[0m\u001b[0;34m(\u001b[0m\u001b[0mtyp\u001b[0m \u001b[0;34m=\u001b[0m \u001b[0;34m\"upper\"\u001b[0m\u001b[0;34m)\u001b[0m\u001b[0;34m\u001b[0m\u001b[0;34m\u001b[0m\u001b[0m\n",
      "\u001b[0;32m<ipython-input-2-1bf54df87c3a>\u001b[0m in \u001b[0;36mold_save_trained_data\u001b[0;34m(self, typ)\u001b[0m\n\u001b[1;32m    324\u001b[0m \u001b[0;34m\u001b[0m\u001b[0m\n\u001b[1;32m    325\u001b[0m         \u001b[0;32mif\u001b[0m \u001b[0mself\u001b[0m\u001b[0;34m.\u001b[0m\u001b[0mskip_factor\u001b[0m \u001b[0;32mis\u001b[0m \u001b[0;32mnot\u001b[0m \u001b[0;32mNone\u001b[0m\u001b[0;34m:\u001b[0m\u001b[0;34m\u001b[0m\u001b[0;34m\u001b[0m\u001b[0m\n\u001b[0;32m--> 326\u001b[0;31m             trained_pca_matrix = trained2.reshape(self.Ntime[2], self.num_wv, \n\u001b[0m\u001b[1;32m    327\u001b[0m                                               int(np.floor(2156/(self.skip_factor+1))))\n\u001b[1;32m    328\u001b[0m         \u001b[0;32melse\u001b[0m\u001b[0;34m:\u001b[0m\u001b[0;34m\u001b[0m\u001b[0;34m\u001b[0m\u001b[0m\n",
      "\u001b[0;31mValueError\u001b[0m: cannot reshape array of size 75460000 into shape (100,350,539)"
     ]
    }
   ],
   "source": [
    "gp = GP5D(\"reference.csv\")\n",
    "gp.set_wv_range(curr_wv)\n",
    "gp.n_comp = set_n_comp\n",
    "time_shape = None\n",
    "gp.num_pca_components = (10,10)\n",
    "# gp.save_training_data(time_trauncation = time_shape) # Which wv do you want to extract.  \n",
    "gp.save_pca_components(skip_factor = set_skip_factor)\n",
    "gp.setXY()\n",
    "fitting_kernel = GPy.kern.RBF(input_dim=4, variance = 10, lengthscale=10, ARD = True)\n",
    "decay_kernel = GPy.kern.Linear(4 , ARD=True)\n",
    "gp.kernel = fitting_kernel * decay_kernel\n",
    "gp.model = GPy.models.GPRegression(gp.X,gp.Y,gp.kernel)\n",
    "t0 = time.time()\n",
    "print(f\"[STATUS] Optimizing...\")\n",
    "gp.model.optimize_restarts(parallel = True, robust = True, num_restarts = 20)\n",
    "print(f\"[STATUS] {round(time.time() - t0, 2)}s taken to optimize.\")\n",
    "# gp.model.optimize(messages = True)\n",
    "# display(gp.model.rbf.lengthscale)\n",
    "display(gp.model.mul.rbf.lengthscale)\n",
    "t1 = time.time()\n",
    "gp.model_predict()\n",
    "print(f\"[STATUS] {round(time.time() - t1, 2)}s taken to predict.\")\n",
    "t2 = time.time()\n",
    "gp.save_trained_data()\n",
    "print(f\"[STATUS] {round(time.time() - t2, 2)}s taken to save data.\")\n",
    "# gp.ComputeDifferenceFlux()\n",
    "# gp.plot_difference_histogram(binning = 150)\n",
    "# plt.xlim(-1,1)\n",
    "# plt.show()"
   ]
  },
  {
   "cell_type": "code",
   "execution_count": null,
   "metadata": {},
   "outputs": [],
   "source": [
    "# WHAT WAVELENGTH AND TIME WOULD YOU LIKE? \n",
    "wv_desired = 250 #nm\n",
    "time_desired = 5 #day\n",
    "\n",
    "mejdyn = 0.001\n",
    "mejwind =  0.01\n",
    "phi = 45\n",
    "iobs = 4\n",
    "\n",
    "t = np.arange(0, 20, 20/100)\n",
    "untrained = np.load(f\"pca/mejdyn{mejdyn}_mejwind{mejwind}_phi{phi}_iobs{iobs}.npy\")\n",
    "trained = np.load(f\"pcaTrained/mejdyn{mejdyn}_mejwind{mejwind}_phi{phi}_iobs{iobs}.npy\")\n",
    "trainedUpper = np.load(f\"pcaTrainedUpper/mejdyn{mejdyn}_mejwind{mejwind}_phi{phi}_iobs{iobs}.npy\")\n",
    "trainedLower = np.load(f\"pcaTrainedLower/mejdyn{mejdyn}_mejwind{mejwind}_phi{phi}_iobs{iobs}.npy\")\n",
    "wv_index = (np.abs(gp.wv_range - wv_desired)).argmin() # Plot arbitary wavelength. \n",
    "time_index = (np.abs(t - time_desired)).argmin() # Plot arbitary wavelength. "
   ]
  },
  {
   "cell_type": "code",
   "execution_count": null,
   "metadata": {
    "scrolled": false
   },
   "outputs": [],
   "source": [
    "import sncosmo\n",
    "filters = [\"sdss::u\", \"sdss::g\", \"sdss::r\", \"sdss::i\", \"sdss::z\",\n",
    "           \"swope2::y\", \"swope2::J\", \"swope2::H\"]\n",
    "\n",
    "colors = sns.color_palette(\"coolwarm_r\",len(filters))[::-1]\n",
    "\n",
    "plt.figure(dpi = 300, figsize = (6,3))\n",
    "for i in range(len(filters)):\n",
    "    source = sncosmo.TimeSeriesSource(t, gp.wv_range*10, 10 ** trained)\n",
    "    source2 = sncosmo.TimeSeriesSource(t, gp.wv_range*10, 10 ** untrained)\n",
    "    m = source.bandmag(filters[i], \"ab\", t)\n",
    "    m2 = source2.bandmag(filters[i], \"ab\", t)\n",
    "    plt.plot(t, m, label = f\"{filters[i][-1]}\", color = colors[i])\n",
    "    plt.plot(t, m2, linestyle = \"dotted\", alpha = 0.3, color = colors[i])\n",
    "\n",
    "plt.legend()\n",
    "utkarshGrid()\n",
    "plt.gca().invert_yaxis()\n",
    "plt.show()"
   ]
  },
  {
   "cell_type": "code",
   "execution_count": null,
   "metadata": {
    "scrolled": false
   },
   "outputs": [],
   "source": [
    "\n",
    "print(f\"=== Flux Estimation === \\nmejdyn: {mejdyn}\\nmejwind: {mejwind}\\\n",
    "\\nphi: {phi}\\nviewing_angle: {iobs}\\nwavelength: {gp.wv_range[wv_index]}nm\\\n",
    "\\ntime: {round(t[time_index],2)} days\\n\\nLOG FLUX: {round(trained[time_index,wv_index], 5)}\")\n",
    "\n",
    "\n",
    "plt.figure(dpi = 300, figsize = (6,3))\n",
    "plt.title(f\"Wavelength = {gp.wv_range[wv_index]}nm\")\n",
    "plt.plot(t, untrained[:,wv_index], label = \"Training Data\", color = \"purple\")\n",
    "plt.plot(t, trainedUpper[:,wv_index], alpha = 0.3, color = \"lightblue\", label = r\"1$\\sigma$\")\n",
    "plt.plot(t, trainedLower[:,wv_index], alpha = 0.3, color = \"lightblue\")\n",
    "plt.plot(t, trained[:,wv_index], label = \"Trained Emulator + PCA\", linestyle = \"dashed\", color = \"dodgerblue\")\n",
    "plt.legend()\n",
    "plt.xlabel(\"Time (s)\")\n",
    "plt.ylabel(\"Log Flux (Magnitude)\")\n",
    "utkarshGrid()\n",
    "plt.show()\n",
    "\n",
    "plt.figure(dpi = 300, figsize = (6,3))\n",
    "plt.title(f\"Time = {round(t[time_index],3)} Days\")\n",
    "plt.plot(gp.wv_range, untrained[time_index,:], label = \"Training Data\", color = \"purple\")\n",
    "plt.plot(gp.wv_range, trained[time_index,:], label = \"Trained Emulator + PCA\", \n",
    "         linestyle = \"dashed\", color = \"dodgerblue\")\n",
    "plt.plot(gp.wv_range, trainedUpper[time_index,:], alpha = 0.3, color = \"lightblue\" , label = r\"1$\\sigma$ Error (UNFINISHED)\")\n",
    "plt.plot(gp.wv_range, trainedLower[time_index,:], alpha = 0.3, color = \"lightblue\")\n",
    "plt.legend()\n",
    "plt.xlabel(\"Wavelength (nm)\")\n",
    "plt.ylabel(\"Log Flux (Magnitude)\")\n",
    "utkarshGrid()\n",
    "plt.show()"
   ]
  },
  {
   "cell_type": "code",
   "execution_count": null,
   "metadata": {
    "scrolled": false
   },
   "outputs": [],
   "source": [
    "# gp = GP5D(\"reference.csv\")\n",
    "# gp.set_wv_range(curr_wv)\n",
    "# gp.n_comp = set_n_comp\n",
    "# # gp.num_pca_components = (4,4)\n",
    "# # gp.save_training_data(time_trauncation = None) # Which wv do you want to extract.  \n",
    "# gp.save_pca_components(skip_factor = set_skip_factor)\n",
    "# gp.setXY()\n",
    "# fitting_kernel = GPy.kern.RBF(input_dim=4, variance = 10, lengthscale=10, ARD = True)\n",
    "# decay_kernel = GPy.kern.Linear(4,ARD=True)\n",
    "# gp.kernel = fitting_kernel * decay_kernel\n",
    "# gp.LOOCV_PCA()\n",
    "# gp.plot_loocv_histogram() # THIS IS FOR PCA COMPONENTS, NOT TRAINING DATA"
   ]
  },
  {
   "cell_type": "code",
   "execution_count": null,
   "metadata": {
    "scrolled": false
   },
   "outputs": [],
   "source": [
    "# gp.save_trained_data()\n",
    "# gp.ComputeDifferenceFlux()\n",
    "# gp.plot_difference_histogram(binning = 100)\n",
    "# plt.xlim(-1, 1)"
   ]
  }
 ],
 "metadata": {
  "kernelspec": {
   "display_name": "Python 3",
   "language": "python",
   "name": "python3"
  },
  "language_info": {
   "codemirror_mode": {
    "name": "ipython",
    "version": 3
   },
   "file_extension": ".py",
   "mimetype": "text/x-python",
   "name": "python",
   "nbconvert_exporter": "python",
   "pygments_lexer": "ipython3",
   "version": "3.8.6"
  }
 },
 "nbformat": 4,
 "nbformat_minor": 4
}
