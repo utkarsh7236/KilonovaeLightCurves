{
 "cells": [
  {
   "cell_type": "code",
   "execution_count": 1,
   "metadata": {},
   "outputs": [],
   "source": [
    "import sys\n",
    "%matplotlib inline\n",
    "import numpy as np\n",
    "import os\n",
    "import matplotlib.pyplot\n",
    "import pandas as pd\n",
    "import matplotlib.pyplot as plt\n",
    "import matplotlib as mpl\n",
    "import matplotlib.ticker as mticker\n",
    "import matplotlib.dates as mdates\n",
    "import datetime\n",
    "from tqdm import tqdm\n",
    "import GPy\n",
    "from collections import defaultdict\n",
    "from pathlib import Path\n",
    "import seaborn as sns\n",
    "import scipy.stats as stats\n",
    "from matplotlib.colors import ListedColormap\n",
    "import warnings\n",
    "import time\n",
    "from itertools import product\n",
    "from joblib import Parallel, delayed\n",
    "from operator import itemgetter\n",
    "import sncosmo\n",
    "import emcee\n",
    "import corner\n",
    "\n",
    "mpl.rcParams['legend.frameon'] = False\n",
    "mpl.rcParams['figure.autolayout'] = True\n",
    "# mpl.rcParams['figure.dpi'] = 300\n",
    "# mpl.rcParams['axes.spines.right'] = False\n",
    "# mpl.rcParams['axes.spines.top'] = False\n",
    "\n",
    "\n",
    "plt.rcParams.update({\n",
    "    \"text.usetex\": True,\n",
    "    \"font.family\": \"sans-serif\",\n",
    "    \"font.sans-serif\": [\"Helvetica\"]})\n",
    "\n",
    "plt.rcParams.update({\n",
    "    \"text.usetex\": True,\n",
    "    \"font.family\": \"serif\",\n",
    "    \"font.serif\": [\"Palatino\"],\n",
    "})\n",
    "\n",
    "\n",
    "def utkarshGrid():\n",
    "    plt.minorticks_on()\n",
    "    plt.grid(color='grey',\n",
    "             which='minor',\n",
    "             linestyle=\":\",\n",
    "             linewidth='0.1',\n",
    "             )\n",
    "    plt.grid(color='black',\n",
    "             which='major',\n",
    "             linestyle=\":\",\n",
    "             linewidth='0.1',\n",
    "             )\n",
    "    \n",
    "# set random number seed to ensure reproducibility\n",
    "seed = 3\n",
    "rstate = np.random.RandomState(seed)"
   ]
  },
  {
   "cell_type": "code",
   "execution_count": 2,
   "metadata": {},
   "outputs": [],
   "source": [
    "truth_arr = np.array([-1, 3, 1, -1])\n",
    "\n",
    "\n",
    "def model(x, a, b, c, d):\n",
    "    return a*x**3 + b*x**2 + c*x + d\n",
    "\n",
    "def gen_mock_data(a=truth_arr[0], b = truth_arr[1], c = truth_arr[2],d = truth_arr[3], N = 50):\n",
    "    x = np.sort(3. * rstate.rand(N))  # x values\n",
    "    y = model(x, a, b, c, d)\n",
    "    yerr = np.random.uniform(0.2, 0.6, N)\n",
    "    yobs = np.random.normal(y, yerr)\n",
    "    return x, y"
   ]
  },
  {
   "cell_type": "code",
   "execution_count": 3,
   "metadata": {},
   "outputs": [],
   "source": [
    "a_guess, b_guess, c_guess, d_guess = [0, 0, 0, 0]"
   ]
  },
  {
   "cell_type": "code",
   "execution_count": null,
   "metadata": {},
   "outputs": [
    {
     "name": "stdout",
     "output_type": "stream",
     "text": [
      "(50,) (50,)\n"
     ]
    }
   ],
   "source": [
    "x, yobs = gen_mock_data()\n",
    "y = yobs\n",
    "print(x.shape, y.shape)\n",
    "plt.scatter(x, y)\n",
    "plt.show()"
   ]
  },
  {
   "cell_type": "code",
   "execution_count": null,
   "metadata": {},
   "outputs": [],
   "source": [
    "def prior(theta):\n",
    "    \"\"\"log-prior as a function of parameters `theta`.\"\"\" \n",
    "    a, b, c = theta\n",
    "    lim = 1e6\n",
    "    if abs(a) > lim or abs(b) > lim or abs(c) > lim:\n",
    "        return -np.inf\n",
    "    else:\n",
    "        return 0.0\n",
    "\n",
    "def loglike(theta, x, y, yerr):\n",
    "    \"\"\"log-likelihood as a function of parameters `theta`.\"\"\"\n",
    "    \n",
    "    a, b, c, d = theta\n",
    "    y_model = model(x, a, b, c, d)\n",
    "    logl = - 0.5 * np.sum(((y - y_model)/yerr)**2)\n",
    "    return logl\n",
    "\n",
    "def logpost(theta, x=x, y=y, yerr=1):\n",
    "    \"\"\"(Negative) log-posterior as a function of parameters `theta`.\"\"\"\n",
    "    if not np.isfinite(prior(theta)):\n",
    "        return -np.inf\n",
    "    a, b, c, d = theta  # reassign parameters\n",
    "    logp = prior(theta)  # prior\n",
    "    logl = loglike(theta, x=x, y=y, yerr = yerr)  # likelihood\n",
    "    return (logl + logp)  # posterior"
   ]
  },
  {
   "cell_type": "code",
   "execution_count": null,
   "metadata": {},
   "outputs": [],
   "source": [
    "initial = [a_guess, b_guess, c_guess]\n",
    "ndim = len(initial)\n",
    "nwalkers = 100\n",
    "niter = 1000\n",
    "\n",
    "\n",
    "p0 = [np.array(initial) + 1 * np.random.randn(ndim) for i in range(nwalkers)]\n",
    "p0 = np.array(p0, dtype = float)\n",
    "print(p0.shape)\n",
    "\n",
    "sampler = emcee.EnsembleSampler(nwalkers, ndim, logpost)\n",
    "\n",
    "state = sampler.run_mcmc(p0, 1)\n",
    "sampler.reset()\n",
    "\n",
    "state = sampler.run_mcmc(state, niter, progress=True)\n",
    "\n",
    "# get final chains\n",
    "samples = sampler.get_chain()"
   ]
  },
  {
   "cell_type": "code",
   "execution_count": null,
   "metadata": {},
   "outputs": [],
   "source": [
    "# plot a few chains\n",
    "plt.figure(dpi = 300, figsize = (10,8))\n",
    "# slope (m)\n",
    "plt.subplot(3, 1, 1)\n",
    "[plt.plot(samples[:, i, 0], alpha=0.5) for i in range(4)]\n",
    "plt.xlim([0, niter])\n",
    "plt.xlabel('Iteration')\n",
    "plt.ylabel('a')\n",
    "# intercept (b)\n",
    "plt.subplot(3, 1, 2)\n",
    "[plt.plot(samples[:, i, 1], alpha=0.5) for i in range(4)]\n",
    "plt.xlabel('Iteration')\n",
    "plt.ylabel('b')\n",
    "plt.xlim([0, niter])\n",
    "# scatter (s)\n",
    "plt.subplot(3, 1, 3)\n",
    "[plt.plot(samples[:, i, 2], alpha=0.5) for i in range(4)]\n",
    "plt.xlim([0, niter])\n",
    "plt.xlabel('Iteration')\n",
    "plt.ylabel('c')\n",
    "plt.tight_layout()"
   ]
  },
  {
   "cell_type": "code",
   "execution_count": null,
   "metadata": {},
   "outputs": [],
   "source": [
    "# plot posterior\n",
    "corner.corner(samples.reshape(-1, ndim),  # collect samples into N x 3 array\n",
    "              bins=100,  # bins for histogram\n",
    "              show_titles=True, quantiles=[0.16, 0.84],  # show median and uncertainties\n",
    "              labels=['a', 'b', 'c'],\n",
    "              truths=truth_arr,  # plot MAP\n",
    "              color='darkviolet', truth_color='black',  # add some colors\n",
    "              **{'plot_datapoints': False, 'fill_contours': True});  # change some default options"
   ]
  }
 ],
 "metadata": {
  "kernelspec": {
   "display_name": "Python 3",
   "language": "python",
   "name": "python3"
  },
  "language_info": {
   "codemirror_mode": {
    "name": "ipython",
    "version": 3
   },
   "file_extension": ".py",
   "mimetype": "text/x-python",
   "name": "python",
   "nbconvert_exporter": "python",
   "pygments_lexer": "ipython3",
   "version": "3.8.6"
  }
 },
 "nbformat": 4,
 "nbformat_minor": 4
}
