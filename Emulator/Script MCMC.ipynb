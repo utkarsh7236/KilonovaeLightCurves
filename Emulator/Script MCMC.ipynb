{
 "cells": [
  {
   "cell_type": "code",
   "execution_count": 1,
   "metadata": {},
   "outputs": [],
   "source": [
    "import sys\n",
    "%matplotlib inline\n",
    "import numpy as np\n",
    "import os\n",
    "import matplotlib.pyplot\n",
    "import pandas as pd\n",
    "import matplotlib.pyplot as plt\n",
    "import matplotlib as mpl\n",
    "import matplotlib.ticker as mticker\n",
    "import matplotlib.dates as mdates\n",
    "import datetime\n",
    "from tqdm import tqdm\n",
    "import GPy\n",
    "from collections import defaultdict\n",
    "from pathlib import Path\n",
    "import seaborn as sns\n",
    "import scipy.stats as stats\n",
    "from matplotlib.colors import ListedColormap\n",
    "import warnings\n",
    "import time\n",
    "from itertools import product\n",
    "from joblib import Parallel, delayed\n",
    "from operator import itemgetter\n",
    "import sncosmo\n",
    "import emcee\n",
    "import corner\n",
    "\n",
    "mpl.rcParams['legend.frameon'] = False\n",
    "mpl.rcParams['figure.autolayout'] = True\n",
    "# mpl.rcParams['figure.dpi'] = 300\n",
    "# mpl.rcParams['axes.spines.right'] = False\n",
    "# mpl.rcParams['axes.spines.top'] = False\n",
    "\n",
    "\n",
    "plt.rcParams.update({\n",
    "    \"text.usetex\": True,\n",
    "    \"font.family\": \"sans-serif\",\n",
    "    \"font.sans-serif\": [\"Helvetica\"]})\n",
    "\n",
    "plt.rcParams.update({\n",
    "    \"text.usetex\": True,\n",
    "    \"font.family\": \"serif\",\n",
    "    \"font.serif\": [\"Palatino\"],\n",
    "})\n",
    "\n",
    "\n",
    "def utkarshGrid():\n",
    "    plt.minorticks_on()\n",
    "    plt.grid(color='grey',\n",
    "             which='minor',\n",
    "             linestyle=\":\",\n",
    "             linewidth='0.1',\n",
    "             )\n",
    "    plt.grid(color='black',\n",
    "             which='major',\n",
    "             linestyle=\":\",\n",
    "             linewidth='0.1',\n",
    "             )"
   ]
  },
  {
   "cell_type": "code",
   "execution_count": 2,
   "metadata": {},
   "outputs": [],
   "source": [
    "# set random number seed to ensure reproducibility\n",
    "seed = 123\n",
    "rstate = np.random.RandomState(seed)"
   ]
  },
  {
   "cell_type": "code",
   "execution_count": 3,
   "metadata": {},
   "outputs": [],
   "source": [
    "def gen_mock_data(m=0.875, b=2.523, s=0.523, unc=[0.2, 0.6], N=50):\n",
    "    \"\"\"\n",
    "    Generate `N` mock data points from the line\n",
    "    with slope `m`, intercept `b`, and\n",
    "    intrinsic scatter `s` with measurement uncertainties\n",
    "    uniformly distributed between the values in `unc` using\n",
    "    a random number generator with the starting `seed`.\n",
    "    \n",
    "    \"\"\"\n",
    "        \n",
    "    # generate synthetic data\n",
    "    x = np.sort(3. * rstate.rand(N))  # x values\n",
    "    y_int = m * x + b  # underlying line\n",
    "    y = np.random.normal(y_int, s)  # with intrinsic scatter\n",
    "    yerr = np.random.uniform(unc[0], unc[1], N)  # measurement errors\n",
    "    yobs = np.random.normal(y, yerr)\n",
    "    \n",
    "    return x, yobs, yerr"
   ]
  },
  {
   "cell_type": "code",
   "execution_count": 4,
   "metadata": {},
   "outputs": [
    {
     "name": "stdout",
     "output_type": "stream",
     "text": [
      "(50,) (50,) (50,)\n"
     ]
    },
    {
     "data": {
      "text/plain": [
       "<ErrorbarContainer object of 3 artists>"
      ]
     },
     "execution_count": 4,
     "metadata": {},
     "output_type": "execute_result"
    },
    {
     "data": {
      "image/png": "[encoded data removed]",
      "text/plain": [
       "<Figure size 432x288 with 1 Axes>"
      ]
     },
     "metadata": {
      "needs_background": "light"
     },
     "output_type": "display_data"
    }
   ],
   "source": [
    "# generate mock data\n",
    "x, y, ye = gen_mock_data()\n",
    "print(x.shape, y.shape, ye.shape)\n",
    "plt.scatter(x, y)\n",
    "plt.errorbar(x, y, yerr = ye, capsize=0, ls='none', color='black', \n",
    "            elinewidth=2)"
   ]
  },
  {
   "cell_type": "code",
   "execution_count": 5,
   "metadata": {},
   "outputs": [],
   "source": [
    "prior_means = np.array([1, 1, 1])  # m, x, b\n",
    "prior_stds = np.array([1, 1, 1])  # m, x, b"
   ]
  },
  {
   "cell_type": "code",
   "execution_count": 6,
   "metadata": {},
   "outputs": [],
   "source": [
    "def neglogprior(theta, mean=prior_means, std=prior_stds):\n",
    "    \"\"\"(Negative) log-prior as a function of parameters `theta`.\"\"\"\n",
    "    \n",
    "    chi2 = (theta - mean)**2 / std**2\n",
    "    const = np.log(2. * np.pi * std**2)\n",
    "    logp = -0.5 * np.sum(chi2 + const)\n",
    "    \n",
    "    return -logp"
   ]
  },
  {
   "cell_type": "code",
   "execution_count": 7,
   "metadata": {},
   "outputs": [],
   "source": [
    "def negloglike(theta, x=x, y=y, ye=ye):\n",
    "    \"\"\"(Negative) log-likelihood as a function of parameters `theta`.\"\"\"\n",
    "    \n",
    "    m, b, s = theta  # reassign parameters\n",
    "    ypred = m * x + b\n",
    "    resid = ypred - y\n",
    "    chi2 = resid**2 / (ye**2 + s**2)  # chi2 term\n",
    "    const = np.log(2 * np.pi * (ye**2 + s**2))  \n",
    "    logl = -0.5 * np.sum(chi2 + const)\n",
    "    \n",
    "    return -logl"
   ]
  },
  {
   "cell_type": "code",
   "execution_count": 8,
   "metadata": {},
   "outputs": [],
   "source": [
    "def logpost(theta, x=x, y=y, ye=ye, mean=prior_means, std=prior_stds):\n",
    "    \"\"\"(Negative) log-posterior as a function of parameters `theta`.\"\"\"\n",
    "    \n",
    "    m, b, s = theta  # reassign parameters\n",
    "    logp = -neglogprior(theta, mean=mean, std=std)  # prior\n",
    "    logl = -negloglike(theta, x=x, y=y, ye=ye)  # likelihood\n",
    "    \n",
    "    return (logl + logp)  # posterior"
   ]
  },
  {
   "cell_type": "code",
   "execution_count": 9,
   "metadata": {},
   "outputs": [
    {
     "name": "stderr",
     "output_type": "stream",
     "text": [
      "100%|██████████| 100/100 [00:00<00:00, 212.20it/s]\n",
      "100%|██████████| 500/500 [00:02<00:00, 205.98it/s]\n"
     ]
    }
   ],
   "source": [
    "import emcee\n",
    "\n",
    "ndim = 3  # number of parameters\n",
    "nwalkers = 100  # number of \"walkers\" or \"chains\" to run\n",
    "\n",
    "# initialize starting positions from our initial approximation\n",
    "p0 = np.random.rand(nwalkers, ndim)\n",
    "\n",
    "# initialize our sampler\n",
    "sampler = emcee.EnsembleSampler(nwalkers, ndim, logpost)\n",
    "\n",
    "# initial \"burn-in\" run\n",
    "state = sampler.run_mcmc(p0, 100, progress=True)\n",
    "sampler.reset()\n",
    "\n",
    "# final \"production\" run\n",
    "state = sampler.run_mcmc(state, 500, progress=True)\n",
    "\n",
    "# get final chains\n",
    "samples = sampler.get_chain()"
   ]
  },
  {
   "cell_type": "code",
   "execution_count": 10,
   "metadata": {},
   "outputs": [
    {
     "data": {
      "image/png": "[encoded data removed]",
      "text/plain": [
       "<Figure size 547.2x547.2 with 9 Axes>"
      ]
     },
     "metadata": {
      "needs_background": "light"
     },
     "output_type": "display_data"
    }
   ],
   "source": [
    "# plot posterior\n",
    "corner.corner(samples.reshape(-1, ndim),  # collect samples into N x 3 array\n",
    "              bins=30,  # bins for histogram\n",
    "              show_titles=True, quantiles=[0.16, 0.84],  # show median and uncertainties\n",
    "              labels=['m', 'b', 's'],\n",
    "              color='darkviolet', truth_color='black',  # add some colors\n",
    "              **{'plot_datapoints': False, 'fill_contours': True});  # change some default options"
   ]
  }
 ],
 "metadata": {
  "kernelspec": {
   "display_name": "Python 3",
   "language": "python",
   "name": "python3"
  },
  "language_info": {
   "codemirror_mode": {
    "name": "ipython",
    "version": 3
   },
   "file_extension": ".py",
   "mimetype": "text/x-python",
   "name": "python",
   "nbconvert_exporter": "python",
   "pygments_lexer": "ipython3",
   "version": "3.8.6"
  }
 },
 "nbformat": 4,
 "nbformat_minor": 4
}
